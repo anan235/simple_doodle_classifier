{
 "cells": [
  {
   "cell_type": "code",
   "execution_count": 1,
   "metadata": {},
   "outputs": [
    {
     "data": {
      "text/plain": [
       "((64000, 28, 28), (16000, 28, 28))"
      ]
     },
     "execution_count": 1,
     "metadata": {},
     "output_type": "execute_result"
    }
   ],
   "source": [
    "# IMPORT DATA\n",
    "import numpy as np\n",
    "import os\n",
    "from sklearn.model_selection import train_test_split\n",
    "\n",
    "path = './quickdraw_data/numpy_bitmap/'\n",
    "filenames = os.listdir(path)\n",
    "\n",
    "xtotal = []\n",
    "ytotal = []\n",
    "slice_train = int(80000/len(filenames))  # setting value to be 80000 for the final dataset\n",
    "seed = np.random.randint(1, 10e7)\n",
    "\n",
    "label_map = {}\n",
    "\n",
    "i = 0\n",
    "for fname in filenames :\n",
    "    x = np.load(path + fname)\n",
    "    x = x.astype('float32') / 255  # scale from 0-255 to 0-1\n",
    "    label_name = fname.split('.npy')[0]\n",
    "    y = [str(label_name)] * len(x)\n",
    "    \n",
    "    label_map[i] = label_name\n",
    "    \n",
    "    np.random.seed(seed)\n",
    "    np.random.shuffle(x)\n",
    "    np.random.seed(seed)\n",
    "    np.random.shuffle(y)\n",
    "    x = x[:slice_train]\n",
    "    y = y[:slice_train]\n",
    "    \n",
    "    if i == 0 :\n",
    "        xtotal = x\n",
    "        ytotal = y\n",
    "    else :\n",
    "        xtotal = np.concatenate([x,xtotal], axis=0)\n",
    "        ytotal = np.concatenate([y,ytotal], axis=0)\n",
    "    \n",
    "    i += 1\n",
    "    \n",
    "x_train, x_test, y_train, y_test = train_test_split(xtotal, ytotal, test_size=0.2, random_state=7)\n",
    "\n",
    "x_train = x_train.reshape(x_train.shape[0], 28, 28)\n",
    "x_test = x_test.reshape(x_test.shape[0], 28, 28)\n",
    "\n",
    "x_train.shape, x_test.shape"
   ]
  },
  {
   "cell_type": "code",
   "execution_count": 2,
   "metadata": {},
   "outputs": [
    {
     "name": "stderr",
     "output_type": "stream",
     "text": [
      "c:\\program files (x86)\\microsoft visual studio\\shared\\python36_64\\lib\\site-packages\\h5py\\__init__.py:36: FutureWarning: Conversion of the second argument of issubdtype from `float` to `np.floating` is deprecated. In future, it will be treated as `np.float64 == np.dtype(float).type`.\n",
      "  from ._conv import register_converters as _register_converters\n",
      "Using TensorFlow backend.\n"
     ]
    },
    {
     "data": {
      "text/plain": [
       "((64000, 4), (16000, 4))"
      ]
     },
     "execution_count": 2,
     "metadata": {},
     "output_type": "execute_result"
    }
   ],
   "source": [
    "# One-hot encode labels\n",
    "\n",
    "from sklearn.preprocessing import LabelEncoder\n",
    "from keras.utils.np_utils import to_categorical\n",
    "\n",
    "encoder = LabelEncoder()\n",
    "encoded_y_train = encoder.fit_transform(y_train)\n",
    "y_train_categorical = to_categorical(encoded_y_train)\n",
    "\n",
    "encoded_y_test = encoder.fit_transform(y_test)\n",
    "y_test_categorical = to_categorical(encoded_y_test)\n",
    "\n",
    "y_train_categorical.shape, y_test_categorical.shape"
   ]
  },
  {
   "cell_type": "code",
   "execution_count": 3,
   "metadata": {},
   "outputs": [
    {
     "name": "stdout",
     "output_type": "stream",
     "text": [
      "Loading model...\n"
     ]
    }
   ],
   "source": [
    "# CREATE AND THE MODEL\n",
    "import keras.backend as K\n",
    "from keras.models import Sequential\n",
    "from keras.layers import Conv2D, Dense, Flatten, MaxPooling2D, Dropout\n",
    "from keras.models import load_model\n",
    "\n",
    "MODEL_PATH = 'model/doodle_classifier.h5'\n",
    "\n",
    "def create_cnn_model(num_classes, input_shape) :\n",
    "    model = Sequential()\n",
    "    model.add(Conv2D(30, (5, 5), input_shape=input_shape, activation='relu'))\n",
    "    model.add(MaxPooling2D(pool_size=(2, 2)))\n",
    "    model.add(Conv2D(15, (3, 3), activation='relu'))\n",
    "    model.add(MaxPooling2D(pool_size=(2, 2)))\n",
    "    model.add(Dropout(0.2))\n",
    "    model.add(Flatten())\n",
    "    model.add(Dense(128, activation='relu'))\n",
    "    model.add(Dense(50, activation='relu'))\n",
    "    model.add(Dense(num_classes, activation='softmax'))\n",
    "    \n",
    "    # compile model\n",
    "    model.compile(loss='categorical_crossentropy', optimizer='adam', metrics=['accuracy'])\n",
    "    \n",
    "    return model\n",
    "\n",
    "\n",
    "n_classes = 4\n",
    "width = height = 28\n",
    "depth = 1\n",
    "\n",
    "if K.image_data_format == 'channels_first' :\n",
    "    input_shape = (depth, width, height)\n",
    "    train_features = x_train.reshape(x_train.shape[0], depth, width, height).astype('float32')\n",
    "    test_features = x_test.reshape(x_test.shape[0], depth, width, height).astype('float32')\n",
    "else :\n",
    "    input_shape = (width, height, depth)\n",
    "    train_features = x_train.reshape(x_train.shape[0], width, height, depth).astype('float32')\n",
    "    test_features = x_test.reshape(x_test.shape[0], width, height, depth).astype('float32')\n",
    "    \n",
    "train_labels = y_train_categorical\n",
    "test_labels = y_test_categorical\n",
    "    \n",
    "try:\n",
    "    print('Loading model...')\n",
    "    model = load_model(MODEL_PATH)\n",
    "except:\n",
    "    print(\"Can't find the model, creating a new one...\")\n",
    "    \n",
    "    model = create_cnn_model(num_classes=n_classes, input_shape=input_shape)\n",
    "    model.fit(x=train_features, y=y_train_categorical, batch_size=100, epochs=1)\n",
    "    model.save(MODEL_PATH)\n",
    "\n"
   ]
  },
  {
   "cell_type": "code",
   "execution_count": 1,
   "metadata": {},
   "outputs": [
    {
     "ename": "NameError",
     "evalue": "name 'np' is not defined",
     "output_type": "error",
     "traceback": [
      "\u001b[1;31m---------------------------------------------------------------------------\u001b[0m",
      "\u001b[1;31mNameError\u001b[0m                                 Traceback (most recent call last)",
      "\u001b[1;32m<ipython-input-1-7c6e7d11b70c>\u001b[0m in \u001b[0;36m<module>\u001b[1;34m()\u001b[0m\n\u001b[0;32m     23\u001b[0m         \u001b[0mlast_y\u001b[0m \u001b[1;33m=\u001b[0m \u001b[1;32mNone\u001b[0m\u001b[1;33m\u001b[0m\u001b[0m\n\u001b[0;32m     24\u001b[0m \u001b[1;33m\u001b[0m\u001b[0m\n\u001b[1;32m---> 25\u001b[1;33m \u001b[0mdraw_img\u001b[0m \u001b[1;33m=\u001b[0m \u001b[0mnp\u001b[0m\u001b[1;33m.\u001b[0m\u001b[0mzeros\u001b[0m\u001b[1;33m(\u001b[0m\u001b[1;33m(\u001b[0m\u001b[1;36m200\u001b[0m\u001b[1;33m,\u001b[0m\u001b[1;36m200\u001b[0m\u001b[1;33m,\u001b[0m\u001b[1;36m3\u001b[0m\u001b[1;33m)\u001b[0m\u001b[1;33m,\u001b[0m \u001b[0mnp\u001b[0m\u001b[1;33m.\u001b[0m\u001b[0muint8\u001b[0m\u001b[1;33m)\u001b[0m\u001b[1;33m\u001b[0m\u001b[0m\n\u001b[0m\u001b[0;32m     26\u001b[0m \u001b[0mpred_img\u001b[0m \u001b[1;33m=\u001b[0m \u001b[0mnp\u001b[0m\u001b[1;33m.\u001b[0m\u001b[0mzeros\u001b[0m\u001b[1;33m(\u001b[0m\u001b[1;33m(\u001b[0m\u001b[1;36m100\u001b[0m\u001b[1;33m,\u001b[0m\u001b[1;36m300\u001b[0m\u001b[1;33m,\u001b[0m\u001b[1;36m3\u001b[0m\u001b[1;33m)\u001b[0m\u001b[1;33m,\u001b[0m \u001b[0mnp\u001b[0m\u001b[1;33m.\u001b[0m\u001b[0muint8\u001b[0m\u001b[1;33m)\u001b[0m\u001b[1;33m\u001b[0m\u001b[0m\n\u001b[0;32m     27\u001b[0m \u001b[1;33m\u001b[0m\u001b[0m\n",
      "\u001b[1;31mNameError\u001b[0m: name 'np' is not defined"
     ]
    }
   ],
   "source": [
    "import cv2\n",
    "\n",
    "drawing = False\n",
    "last_x, last_y = None, None\n",
    "\n",
    "# mouse callback to draw on the 'drawing' window\n",
    "def draw(event, x, y, flags, param) :\n",
    "    global drawing, last_x, last_y\n",
    "    \n",
    "    if event == cv2.EVENT_LBUTTONDOWN :\n",
    "        drawing = True\n",
    "    elif event == cv2.EVENT_MOUSEMOVE :\n",
    "        if drawing :\n",
    "            if last_x == None or last_y == None :\n",
    "                last_x = x\n",
    "                last_y = y\n",
    "            cv2.line(draw_img, (last_x, last_y), (x, y), (255,255,255), 5)\n",
    "            last_x = x\n",
    "            last_y = y\n",
    "    elif event == cv2.EVENT_LBUTTONUP :\n",
    "        drawing = False\n",
    "        last_x = None\n",
    "        last_y = None\n",
    "            \n",
    "draw_img = np.zeros((200,200,3), np.uint8)\n",
    "pred_img = np.zeros((100,300,3), np.uint8)\n",
    "\n",
    "cv2.namedWindow('drawing')\n",
    "cv2.namedWindow('prediction')\n",
    "cv2.setMouseCallback('drawing', draw)\n",
    "font = cv2.FONT_HERSHEY_SIMPLEX\n",
    "\n",
    "while(1) :\n",
    "    # show images on their windows\n",
    "    cv2.imshow('drawing', draw_img)\n",
    "    cv2.imshow('prediction', pred_img)\n",
    "    \n",
    "    # copy the image on the 'drawing' window and use it to predict\n",
    "    img_to_pred = draw_img.copy()\n",
    "    img_to_pred = cv2.cvtColor(img_to_pred, cv2.COLOR_BGR2GRAY) # convert BGR to grayscale image\n",
    "    img_to_pred = cv2.resize(img_to_pred, (28,28)) # resize to a 28x28 image\n",
    "    \n",
    "    # reshape to a suitable shape for the model and convert values from 0-255 range to 0-1 range\n",
    "    img_to_pred = img_to_pred.reshape((1,28,28,1)).astype('float32') / 255\n",
    "    \n",
    "    # predict the image\n",
    "    prediction = model.predict_classes(img_to_pred)\n",
    "    \n",
    "    # refill the prediction image with zeros (with black color)\n",
    "    pred_img.fill(0)\n",
    "    \n",
    "    # if nothing is drawn yet, don't predict anything\n",
    "    if draw_img.any() :\n",
    "        cv2.putText(pred_img, str(label_map[int(prediction)]), (10,70), font, 1.5, (255,255,255), 2, cv2.LINE_AA)\n",
    "    \n",
    "    k = cv2.waitKey(20) # capture the pressed key\n",
    "    if k == 27 :   # 27 - escape key\n",
    "        cv2.destroyAllWindows()\n",
    "        break\n",
    "    elif k == ord('c') : # clear the 'drawing' image if c key is pressed\n",
    "        draw_img.fill(0)"
   ]
  },
  {
   "cell_type": "code",
   "execution_count": null,
   "metadata": {},
   "outputs": [],
   "source": []
  },
  {
   "cell_type": "code",
   "execution_count": null,
   "metadata": {},
   "outputs": [],
   "source": []
  }
 ],
 "metadata": {
  "kernelspec": {
   "display_name": "Python 3",
   "language": "python",
   "name": "python3"
  },
  "language_info": {
   "codemirror_mode": {
    "name": "ipython",
    "version": 3
   },
   "file_extension": ".py",
   "mimetype": "text/x-python",
   "name": "python",
   "nbconvert_exporter": "python",
   "pygments_lexer": "ipython3",
   "version": "3.6.3"
  }
 },
 "nbformat": 4,
 "nbformat_minor": 2
}
